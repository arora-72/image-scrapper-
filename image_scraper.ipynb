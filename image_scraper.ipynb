{
 "cells": [
  {
   "cell_type": "code",
   "execution_count": 1,
   "metadata": {},
   "outputs": [],
   "source": [
    "import urllib.request"
   ]
  },
  {
   "cell_type": "code",
   "execution_count": 2,
   "metadata": {},
   "outputs": [],
   "source": [
    "import cv2"
   ]
  },
  {
   "cell_type": "code",
   "execution_count": 3,
   "metadata": {},
   "outputs": [],
   "source": [
    "import numpy as np"
   ]
  },
  {
   "cell_type": "code",
   "execution_count": 4,
   "metadata": {},
   "outputs": [],
   "source": [
    "import os"
   ]
  },
  {
   "cell_type": "code",
   "execution_count": 6,
   "metadata": {},
   "outputs": [],
   "source": [
    "def store_raw_images():\n",
    "    neg_images_link = 'http://image-net.org/api/text/imagenet.synset.geturls?wnid=n04409515'\n",
    "    neg_image_urls =  urllib.request.urlopen(neg_images_link).read().decode()\n",
    "    \n",
    "    if not os.path.exists('neg'):\n",
    "        os.makedirs('neg')\n",
    "        \n",
    "    pic_num=1\n",
    "    \n",
    "    for i in neg_image_urls.split('\\n'):\n",
    "        try:\n",
    "            print(i)\n",
    "            urllib.request.urlretrieve(i, \"neg/\"+str(pic_num)+'.jpg')\n",
    "            img = cv2.imread(\"neg/\"+str(pic_num)+'.jpg')\n",
    "            resized_image = cv2.resize(img, (200,200))\n",
    "            cv2.imwrite(\"neg/\"+str(pic_num)+'.jpg', resized_image)\n",
    "            pic_num+=1\n",
    "            \n",
    "        except Exception as e:\n",
    "            print(str(e))\n",
    "            \n",
    "\n",
    "    "
   ]
  },
  {
   "cell_type": "code",
   "execution_count": null,
   "metadata": {},
   "outputs": [
    {
     "name": "stdout",
     "output_type": "stream",
     "text": [
      "http://i138.photobucket.com/albums/q244/kuuipo27/christmas/tennisball-1.jpg\r\n",
      "http://farm4.static.flickr.com/3080/2381023982_b5912ba676.jpg\r\n",
      "http://farm3.static.flickr.com/2305/1750516620_cd80e81cb7.jpg\r\n",
      "http://www.jpmorganchaseopen.com/images/tennisball.jpg\r\n",
      "<urlopen error [Errno 8] nodename nor servname provided, or not known>\n",
      "http://farm1.static.flickr.com/17/19824440_fc5a0fcfa3.jpg\r\n",
      "http://farm3.static.flickr.com/2122/2496582426_fa58a0682a.jpg\r\n",
      "http://www.imprintitems.com/sitewide/images/prod/0_sports_tennis-wilson_-_tennis_-_ball_-_factory_-_direct_lg.jpg\r\n",
      "HTTP Error 404: Not Found\n",
      "http://www.productwiki.com/upload/images/toy_buddies_exerciser_mini_tennis_ball-400-400.jpg\r\n",
      "<urlopen error [Errno 8] nodename nor servname provided, or not known>\n",
      "http://farm4.static.flickr.com/3153/2945130495_9bc3deb62e.jpg\r\n",
      "http://i3.ebayimg.com/07/i/001/34/fa/55d7_1.JPG\r\n",
      "http://www.albiazul.com.ar/main/uploaded_images/2007/20071019capitano51405Thumb.jpg\r\n",
      "HTTP Error 404: Not Found\n",
      "http://j-walkblog.com/images2/mouse-tennis-ball.jpg\r\n",
      "HTTP Error 404: Not Found\n",
      "http://farm1.static.flickr.com/75/170478603_9538ad2d5f.jpg\r\n",
      "http://people.brandeis.edu/~btc/Pictures/ballgrass.jpg\r\n",
      "http://farm2.static.flickr.com/1280/881121543_46f5251e2a.jpg\r\n",
      "http://farm1.static.flickr.com/164/396123429_32da004592.jpg\r\n",
      "http://farm4.static.flickr.com/3171/2849062542_3ef5a1a3f7.jpg\r\n",
      "http://www.toycannons.ray-vin.com/bigguns/img/tennisball.jpg\r\n",
      "http://images.xooob.com/20081217/1229573884218.jpg\r\n",
      "<urlopen error [Errno 61] Connection refused>\n",
      "http://farm1.static.flickr.com/205/524036010_7f6ffe6d4b.jpg\r\n",
      "http://farm1.static.flickr.com/128/379438709_0e1a0b19d6_o.jpg\r\n",
      "http://farm1.static.flickr.com/238/518654835_95d00f979b.jpg\r\n",
      "http://static.flickr.com/2165/2386331992_76d1ca69b8.jpg\r\n",
      "http://imagecache.allposters.com/images/pic/PTGPOD/406379-FB~Tennis-Ball-on-Court-Posters.jpg\r\n",
      "http://farm2.static.flickr.com/1171/549804378_e2ad21689b.jpg\r\n",
      "http://farm1.static.flickr.com/62/188544003_9da40a57eb.jpg\r\n",
      "http://farm1.static.flickr.com/196/497307541_53f6904072.jpg\r\n",
      "http://piedmontlions.com/images/mtenn/2008/3/31/tennis_ball.jpg\r\n",
      "HTTP Error 404: Not Found\n",
      "http://cbredeson.files.wordpress.com/2008/07/tennis_ball.jpg\r\n",
      "http://farm3.static.flickr.com/2121/2148325184_9db4872de0.jpg\r\n",
      "http://farm1.static.flickr.com/142/382710059_4421708db1.jpg\r\n",
      "http://farm4.static.flickr.com/3098/2421269653_c265600672.jpg\r\n",
      "http://farm4.static.flickr.com/3532/3261713320_c88c3e1d1e.jpg\r\n",
      "http://farm1.static.flickr.com/147/347260641_7dd2e6e13f.jpg\r\n",
      "http://farm1.static.flickr.com/59/193717889_9c12d97c6d.jpg\r\n",
      "http://static.flickr.com/2178/2505168114_5e96061ab0.jpg\r\n",
      "http://www.gogo-tennis.com/images/Tennis_Ball_Racquet_small.jpg\r\n",
      "http://farm1.static.flickr.com/210/508238572_86549b6607.jpg\r\n",
      "http://www.secsportsfan.com/images/tennis-ball-focus.jpg\r\n",
      "http://farm3.static.flickr.com/2384/2528827550_c6380dd11f.jpg\r\n",
      "http://farm3.static.flickr.com/2208/2110312086_7aba658091.jpg\r\n",
      "http://farm4.static.flickr.com/3447/3270536475_c0635fb70e.jpg\r\n",
      "http://farm3.static.flickr.com/2243/2120452921_81619321f0.jpg\r\n",
      "http://farm3.static.flickr.com/2194/2114289644_cffeb78c86.jpg\r\n",
      "http://farm4.static.flickr.com/3064/2548989424_19e84a9187.jpg\r\n",
      "http://www.pelotasmafer.com/images/img_productos.gif\r\n",
      "/opt/concourse/worker/volumes/live/68762549-a7cd-401a-4fc4-6547354af396/volume/opencv_1512680491081/work/modules/imgproc/src/resize.cpp:3289: error: (-215) ssize.width > 0 && ssize.height > 0 in function resize\n",
      "\n",
      "http://farm4.static.flickr.com/3436/3364964850_5fd638a8af.jpg\r\n",
      "http://farm4.static.flickr.com/3085/2693594611_b28ee95986.jpg\r\n",
      "http://farm4.static.flickr.com/3233/2979090065_c627668eca.jpg\r\n",
      "http://farm1.static.flickr.com/108/317203247_d26d31f12a.jpg\r\n",
      "http://farm4.static.flickr.com/3184/2791348979_ce49aa9bf4.jpg\r\n",
      "http://farm1.static.flickr.com/28/37166944_d93a9396a1.jpg\r\n",
      "http://farm1.static.flickr.com/21/28887538_73773f2a14.jpg\r\n",
      "http://farm1.static.flickr.com/46/164146317_4423687f83.jpg\r\n",
      "http://sports.mansfield.edu/WSoccer/Release%20Stories/tennisballrace1.jpg\r\n",
      "HTTP Error 404: Not Found\n",
      "http://farm3.static.flickr.com/2192/2530522476_fe1e6d2509.jpg\r\n",
      "http://farm4.static.flickr.com/3333/3419058263_c692be38fd.jpg\r\n",
      "http://farm1.static.flickr.com/31/38488710_0a6300c4b6.jpg\r\n",
      "http://farm4.static.flickr.com/3615/3422329915_198fc8a97c.jpg\r\n",
      "http://static.flickr.com/167/414791161_a66ea806b1.jpg\r\n",
      "http://farm4.static.flickr.com/3257/2592143329_ed3bd84361.jpg\r\n",
      "http://farm1.static.flickr.com/128/390185348_3c532e2c8a.jpg\r\n",
      "http://farm2.static.flickr.com/1227/632329321_a4a6f25029.jpg\r\n",
      "http://farm4.static.flickr.com/3540/3351302825_a66525f110.jpg\r\n",
      "http://farm4.static.flickr.com/3089/2546434145_e1cb098fdb.jpg\r\n",
      "http://farm4.static.flickr.com/3027/2962156947_e53ab1fb03.jpg\r\n",
      "http://farm4.static.flickr.com/3180/2873227632_1bf7863941.jpg\r\n",
      "http://farm3.static.flickr.com/2401/2207461244_6a65d2d3d2.jpg\r\n",
      "http://farm4.static.flickr.com/3185/2862834036_66fd75c7dc.jpg\r\n",
      "http://sportspractitioners.org/_Images/tennisball.jpg\r\n",
      "<urlopen error [Errno 8] nodename nor servname provided, or not known>\n",
      "http://farm2.static.flickr.com/1123/1410377684_9509f1ed2d.jpg\r\n",
      "http://farm4.static.flickr.com/3300/3413809110_442bf1b285.jpg\r\n",
      "http://farm4.static.flickr.com/3146/2672927834_c28561212a.jpg\r\n",
      "http://d.yimg.com/i/ng/sp/afpji/20090404/090404202613.ev8piadg0b.jpg\r\n",
      "HTTP Error 404: Not Found on Accelerator\n",
      "http://static.flickr.com/2418/2378409462_9c0e4b034c.jpg\r\n",
      "http://www.cuieagles.com/images/2008-09/tennis%20(w)/tennisballraquet.jpg\r\n",
      "HTTP Error 404: Not Found\n",
      "http://farm3.static.flickr.com/2243/2618331357_c8aa683618.jpg\r\n",
      "http://mediateca.educa.madrid.org/imagen/imagenes/publicas/tam4/oq/oqlelubxrxhfieag.jpg\r\n",
      "/opt/concourse/worker/volumes/live/68762549-a7cd-401a-4fc4-6547354af396/volume/opencv_1512680491081/work/modules/imgproc/src/resize.cpp:3289: error: (-215) ssize.width > 0 && ssize.height > 0 in function resize\n",
      "\n",
      "http://farm1.static.flickr.com/124/337501157_3cd88e0b18.jpg\r\n",
      "http://static.flickr.com/3486/3239746987_2cf3cbc5b5.jpg\r\n",
      "http://static.flickr.com/2144/2192866149_dd473a7050.jpg\r\n",
      "http://farm4.static.flickr.com/3403/3309337122_7627f5a793.jpg\r\n",
      "http://farm3.static.flickr.com/2069/2155045429_1486f5583c.jpg\r\n",
      "http://farm1.static.flickr.com/95/243649637_a61dc279c1.jpg\r\n",
      "http://farm4.static.flickr.com/3172/2717440156_37e8461603.jpg\r\n",
      "http://farm1.static.flickr.com/33/57806987_6245189421.jpg\r\n",
      "http://farm4.static.flickr.com/3063/2756944977_01d8df4b80.jpg\r\n",
      "http://xs226.xs.to/xs226/08152/tenis_ball_with_fire1209.jpg\r\n",
      "<urlopen error [Errno 8] nodename nor servname provided, or not known>\n",
      "http://www.lindseyathletics.com/images/2007-08/mtennis/tennis%20ball.jpg\r\n",
      "HTTP Error 403: Forbidden\n",
      "http://www.floota.com/images/tennisball_onpost.jpg\r\n"
     ]
    }
   ],
   "source": [
    "store_raw_images()"
   ]
  },
  {
   "cell_type": "code",
   "execution_count": null,
   "metadata": {},
   "outputs": [],
   "source": []
  }
 ],
 "metadata": {
  "kernelspec": {
   "display_name": "Python 3",
   "language": "python",
   "name": "python3"
  },
  "language_info": {
   "codemirror_mode": {
    "name": "ipython",
    "version": 3
   },
   "file_extension": ".py",
   "mimetype": "text/x-python",
   "name": "python",
   "nbconvert_exporter": "python",
   "pygments_lexer": "ipython3",
   "version": "3.6.3"
  }
 },
 "nbformat": 4,
 "nbformat_minor": 2
}
